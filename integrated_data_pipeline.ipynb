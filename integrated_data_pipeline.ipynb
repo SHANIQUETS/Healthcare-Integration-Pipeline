{
  "cells": [
    {
      "cell_type": "markdown",
      "metadata": {
        "id": "view-in-github",
        "colab_type": "text"
      },
      "source": [
        "<a href=\"https://colab.research.google.com/github/SHANIQUETS/Healthcare-Integration-Pipeline/blob/main/integrated_data_pipeline.ipynb\" target=\"_parent\"><img src=\"https://colab.research.google.com/assets/colab-badge.svg\" alt=\"Open In Colab\"/></a>"
      ]
    },
    {
      "cell_type": "markdown",
      "source": [
        "#  1.  Integrating Patient Data for Targeted Healthcare Insight: A Data Pipeline for Demographics, Conditions, and Medication Trends\n",
        "\n",
        "## Problem Statement:\n",
        "\n",
        "In healthcare, data is often spread across different systems and formats, making it tough to get a clear, unified view of patient information. Without pulling together demographics, health conditions, and medication trends in one place, it’s hard to identify which groups are at higher risk, allocate resources efficiently, or set up preventive care where it’s needed. Real-time data is also limited, which means delayed responses for conditions that might need immediate action.\n",
        "\n",
        "This project focuses on building a data pipeline to bring together structured and semi-structured patient data from various sources, including real-time streams. By integrating this data into both relational and NoSQL databases, the pipeline will enable detailed reporting on patient demographics, conditions, and medication trends. The goal is to give healthcare providers easy access to insights that support smarter, data-driven decisions for better patient care and proactive health management."
      ],
      "metadata": {
        "id": "LamlPDlo3nYO"
      }
    },
    {
      "cell_type": "code",
      "source": [
        "# Import the required libraries\n",
        "import pandas as pd\n",
        "from sqlalchemy import create_engine\n",
        "import json"
      ],
      "metadata": {
        "id": "Oit9STDT4EyZ"
      },
      "execution_count": 1,
      "outputs": []
    },
    {
      "cell_type": "markdown",
      "source": [
        "## 2. Data Processing\n",
        "##### Load the necessary files into DataFrames"
      ],
      "metadata": {
        "id": "KP16LePu4bKY"
      }
    },
    {
      "cell_type": "code",
      "source": [
        "# Load data\n",
        "\n",
        "url=(\"https://raw.githubusercontent.com/SHANIQUETS/Healthcare-Integration-Pipeline/refs/heads/main/conditions.csv?token=GHSAT0AAAAAACZTEX5D2HBIENWFZJKWYXX2ZY66S2A\")\n",
        "conditions_data = pd.read_csv(url)\n",
        "\n",
        "url=(\"https://raw.githubusercontent.com/SHANIQUETS/Healthcare-Integration-Pipeline/refs/heads/main/encounters.csv?token=GHSAT0AAAAAACZTEX5DYU63FGYNK3B5ZFOSZY66TSA\")\n",
        "encounters_data = pd.read_csv(url)\n",
        "\n",
        "url=(\"https://raw.githubusercontent.com/SHANIQUETS/Healthcare-Integration-Pipeline/refs/heads/main/medications.csv?token=GHSAT0AAAAAACZTEX5DHWSVG334OFLQR6QUZY66UDA\")\n",
        "medication_data = pd.read_csv(url)\n",
        "\n",
        "url=(\"https://raw.githubusercontent.com/SHANIQUETS/Healthcare-Integration-Pipeline/refs/heads/main/patients.csv?token=GHSAT0AAAAAACZTEX5DIARSGOIU5KGS2BXMZY66UQQ\")\n",
        "patients_data = pd.read_csv(url)"
      ],
      "metadata": {
        "id": "tG9v1ls14Klh"
      },
      "execution_count": 2,
      "outputs": []
    },
    {
      "cell_type": "markdown",
      "source": [],
      "metadata": {
        "id": "TSiY65sq47uT"
      }
    },
    {
      "cell_type": "markdown",
      "source": [
        "### 3. Clean and Transform Data\n",
        "\n"
      ],
      "metadata": {
        "id": "rZvLs6J14m9z"
      }
    },
    {
      "cell_type": "markdown",
      "source": [
        "#### Clean Conditions Data"
      ],
      "metadata": {
        "id": "Vhzis-nw7cK5"
      }
    },
    {
      "cell_type": "code",
      "source": [
        "# Inspect the data\n",
        "conditions_data.head()\n",
        "conditions_data.info()  # to check data types and missing values\n",
        "conditions_data.isnull().sum()  # check for missing values in each column\n",
        "\n",
        "# Fill missing values in the STOP column with \"Unknown\"\n",
        "conditions_data['STOP'] = conditions_data['STOP'].fillna('Unknown')\n",
        "\n",
        "# Convert START column to datetime\n",
        "conditions_data['START'] = pd.to_datetime(conditions_data['START'], format=\"%m/%d/%Y\", errors='coerce')\n",
        "\n",
        "# Convert STOP to datetime where it’s not \"Unknown\"; leave \"Unknown\" as is\n",
        "conditions_data['STOP'] = pd.to_datetime(\n",
        "    conditions_data['STOP'].replace(\"Unknown\", pd.NaT),  # Replace \"Unknown\" with NaT for datetime compatibility\n",
        "    format=\"%m/%d/%Y\",\n",
        "    errors='coerce'\n",
        ")"
      ],
      "metadata": {
        "colab": {
          "base_uri": "https://localhost:8080/"
        },
        "id": "aSS4SdJj7bWZ",
        "outputId": "e26272dd-807d-40c3-82d7-a5560ad12d56"
      },
      "execution_count": 3,
      "outputs": [
        {
          "output_type": "stream",
          "name": "stdout",
          "text": [
            "<class 'pandas.core.frame.DataFrame'>\n",
            "RangeIndex: 8376 entries, 0 to 8375\n",
            "Data columns (total 6 columns):\n",
            " #   Column       Non-Null Count  Dtype \n",
            "---  ------       --------------  ----- \n",
            " 0   START        8376 non-null   object\n",
            " 1   STOP         4565 non-null   object\n",
            " 2   PATIENT      8376 non-null   object\n",
            " 3   ENCOUNTER    8376 non-null   object\n",
            " 4   CODE         8376 non-null   int64 \n",
            " 5   DESCRIPTION  8376 non-null   object\n",
            "dtypes: int64(1), object(5)\n",
            "memory usage: 392.8+ KB\n"
          ]
        }
      ]
    },
    {
      "cell_type": "code",
      "source": [
        "# Display unique values in START and STOP columns to diagnose\n",
        "print(\"Unique values in START column:\")\n",
        "print(conditions_data['START'].unique())\n",
        "\n",
        "print(\"\\nUnique values in STOP column:\")\n",
        "print(conditions_data['STOP'].unique())"
      ],
      "metadata": {
        "colab": {
          "base_uri": "https://localhost:8080/"
        },
        "id": "AE8WlgaS8WHn",
        "outputId": "ed5ec1b4-1afb-453c-de46-dd30779dcfa3"
      },
      "execution_count": 4,
      "outputs": [
        {
          "output_type": "stream",
          "name": "stdout",
          "text": [
            "Unique values in START column:\n",
            "<DatetimeArray>\n",
            "['NaT']\n",
            "Length: 1, dtype: datetime64[ns]\n",
            "\n",
            "Unique values in STOP column:\n",
            "<DatetimeArray>\n",
            "['NaT']\n",
            "Length: 1, dtype: datetime64[ns]\n"
          ]
        }
      ]
    },
    {
      "cell_type": "code",
      "source": [
        "# Check the current data types\n",
        "print(conditions_data.dtypes)"
      ],
      "metadata": {
        "colab": {
          "base_uri": "https://localhost:8080/"
        },
        "id": "31h2uuH18d-W",
        "outputId": "32424a32-997c-4d96-af2e-cb3c02b794cb"
      },
      "execution_count": null,
      "outputs": [
        {
          "output_type": "stream",
          "name": "stdout",
          "text": [
            "START          datetime64[ns]\n",
            "STOP           datetime64[ns]\n",
            "PATIENT                object\n",
            "ENCOUNTER              object\n",
            "CODE                    int64\n",
            "DESCRIPTION            object\n",
            "dtype: object\n"
          ]
        }
      ]
    },
    {
      "cell_type": "code",
      "source": [
        "# Step 1: Calculate DURATION_DAYS where both START and STOP are dates\n",
        "conditions_data['DURATION_DAYS'] = (conditions_data['STOP'] - conditions_data['START']).dt.days\n",
        "\n",
        "# Step 2: Extract the year from the START date\n",
        "conditions_data['YEAR'] = conditions_data['START'].dt.year\n",
        "\n",
        "# Display the updated DataFrame to confirm the new columns\n",
        "print(conditions_data.head())"
      ],
      "metadata": {
        "colab": {
          "base_uri": "https://localhost:8080/"
        },
        "id": "zGvMVPXt8izC",
        "outputId": "b49ced04-6b66-40ff-8aaa-7c64b2f3f878"
      },
      "execution_count": 5,
      "outputs": [
        {
          "output_type": "stream",
          "name": "stdout",
          "text": [
            "  START STOP                               PATIENT  \\\n",
            "0   NaT  NaT  1d604da9-9a81-4ba9-80c2-de3375d59b40   \n",
            "1   NaT  NaT  8d4c4326-e9de-4f45-9a4c-f8c36bff89ae   \n",
            "2   NaT  NaT  8d4c4326-e9de-4f45-9a4c-f8c36bff89ae   \n",
            "3   NaT  NaT  10339b10-3cd1-4ac3-ac13-ec26728cb592   \n",
            "4   NaT  NaT  f5dcd418-09fe-4a2f-baa0-3da800bd8c3a   \n",
            "\n",
            "                              ENCOUNTER       CODE  \\\n",
            "0  8f104aa7-4ca9-4473-885a-bba2437df588   40055000   \n",
            "1  9d35ec9f-352a-4629-92ef-38eae38437e7  444814009   \n",
            "2  ae7555a9-eaff-4c09-98a7-21bc6ed1b1fd  195662009   \n",
            "3  e1ab4933-07a1-49f0-b4bd-05500919061d   10509002   \n",
            "4  b8f76eba-7795-4dcd-a544-f27ac2ef3d46  195662009   \n",
            "\n",
            "                          DESCRIPTION  DURATION_DAYS  YEAR  \n",
            "0        Chronic sinusitis (disorder)            NaN   NaN  \n",
            "1          Viral sinusitis (disorder)            NaN   NaN  \n",
            "2  Acute viral pharyngitis (disorder)            NaN   NaN  \n",
            "3         Acute bronchitis (disorder)            NaN   NaN  \n",
            "4  Acute viral pharyngitis (disorder)            NaN   NaN  \n"
          ]
        }
      ]
    },
    {
      "cell_type": "markdown",
      "source": [
        "#### Clean Encounters Data"
      ],
      "metadata": {
        "id": "nxjh2d_o87_d"
      }
    },
    {
      "cell_type": "code",
      "source": [
        "# Check for missing values\n",
        "print(encounters_data.head())"
      ],
      "metadata": {
        "colab": {
          "base_uri": "https://localhost:8080/"
        },
        "id": "a3R4VRAZ8wCk",
        "outputId": "324aee0d-aee3-417f-ca2f-1a656bbf1ec2"
      },
      "execution_count": 6,
      "outputs": [
        {
          "output_type": "stream",
          "name": "stdout",
          "text": [
            "                                     Id                 START  \\\n",
            "0  d0c40d10-8d87-447e-836e-99d26ad52ea5  2010-01-23T17:45:28Z   \n",
            "1  e88bc3a9-007c-405e-aabc-792a38f4aa2b  2012-01-23T17:45:28Z   \n",
            "2  8f104aa7-4ca9-4473-885a-bba2437df588  2001-05-01T15:02:18Z   \n",
            "3  b85c339a-6076-43ed-b9d0-9cf013dec49d  2011-07-28T15:02:18Z   \n",
            "4  dae2b7cb-1316-4b78-954f-fa610a6c6d0e  2010-07-27T12:58:08Z   \n",
            "\n",
            "                   STOP                               PATIENT  \\\n",
            "0  2010-01-23T18:10:28Z  034e9e3b-2def-4559-bb2a-7850888ae060   \n",
            "1  2012-01-23T18:00:28Z  034e9e3b-2def-4559-bb2a-7850888ae060   \n",
            "2  2001-05-01T15:17:18Z  1d604da9-9a81-4ba9-80c2-de3375d59b40   \n",
            "3  2011-07-28T15:17:18Z  1d604da9-9a81-4ba9-80c2-de3375d59b40   \n",
            "4  2010-07-27T13:28:08Z  10339b10-3cd1-4ac3-ac13-ec26728cb592   \n",
            "\n",
            "                           ORGANIZATION                              PROVIDER  \\\n",
            "0  e002090d-4e92-300e-b41e-7d1f21dee4c6  e6283e46-fd81-3611-9459-0edb1c3da357   \n",
            "1  772ee193-bb9f-30eb-9939-21e86c8e4da5  6f1d59a7-a5bd-3cf9-9671-5bad2f351c28   \n",
            "2  5d4b9df1-93ae-3bc9-b680-03249990e558  af01a385-31d3-3c77-8fdb-2867fe88df2f   \n",
            "3  3dc9bb2d-5d66-3e61-bf9a-e234c6433577  bb17e691-262b-3546-93d5-d88e7de93246   \n",
            "4  b03dba4f-892f-365c-bfd1-bfcfa7a98d5d  7ed6b84a-b847-3744-9d42-15c42297a0c2   \n",
            "\n",
            "                                  PAYER ENCOUNTERCLASS       CODE  \\\n",
            "0  6e2f1a2d-27bd-3701-8d08-dae202c58632     ambulatory  185345009   \n",
            "1  6e2f1a2d-27bd-3701-8d08-dae202c58632       wellness  162673000   \n",
            "2  b1c428d6-4f07-31e0-90f0-68ffa6ff8c76     ambulatory  185345009   \n",
            "3  b1c428d6-4f07-31e0-90f0-68ffa6ff8c76       wellness  162673000   \n",
            "4  d47b3510-2895-3b70-9897-342d681c769d       wellness  162673000   \n",
            "\n",
            "                                  DESCRIPTION  BASE_ENCOUNTER_COST  \\\n",
            "0                       Encounter for symptom               129.16   \n",
            "1  General examination of patient (procedure)               129.16   \n",
            "2                       Encounter for symptom               129.16   \n",
            "3  General examination of patient (procedure)               129.16   \n",
            "4  General examination of patient (procedure)               129.16   \n",
            "\n",
            "   TOTAL_CLAIM_COST  PAYER_COVERAGE  REASONCODE            REASONDESCRIPTION  \n",
            "0            129.16           54.16  10509002.0  Acute bronchitis (disorder)  \n",
            "1            129.16          129.16         NaN                          NaN  \n",
            "2            129.16            0.00  36971009.0         Sinusitis (disorder)  \n",
            "3            129.16            0.00         NaN                          NaN  \n",
            "4            129.16          129.16         NaN                          NaN  \n"
          ]
        }
      ]
    },
    {
      "cell_type": "code",
      "source": [
        "# Rename columns to remove spaces\n",
        "encounters_data.columns = encounters_data.columns.str.replace(' ', '_', regex=False)\n",
        "\n",
        "# Remove duplicates based on 'Id' column\n",
        "encounters_data.drop_duplicates(subset='Id', keep='first', inplace=True)\n",
        "\n",
        "# Convert 'START' and 'STOP' columns to datetime\n",
        "encounters_data['START'] = pd.to_datetime(encounters_data['START'], errors='coerce')\n",
        "encounters_data['STOP'] = pd.to_datetime(encounters_data['STOP'], errors='coerce')\n",
        "\n",
        "# Convert numeric columns to appropriate types\n",
        "numeric_columns = ['BASE_ENCOUNTER_COST', 'TOTAL_CLAIM_COST', 'PAYER_COVERAGE']\n",
        "for col in numeric_columns:\n",
        "    encounters_data[col] = pd.to_numeric(encounters_data[col], errors='coerce')\n",
        "\n",
        "# Handle missing values by filling with 0 or appropriate methods\n",
        "encounters_data.fillna({\n",
        "    'BASE_ENCOUNTER_COST': 0,\n",
        "    'TOTAL_CLAIM_COST': 0,\n",
        "    'PAYER_COVERAGE': 0,\n",
        "    'REASONCODE': 'Unknown',  # Assuming 'Unknown' for unknown reasons\n",
        "    'REASONDESCRIPTION': 'Not provided'\n",
        "}, inplace=True)"
      ],
      "metadata": {
        "id": "XlRWb8RG9Nj2"
      },
      "execution_count": 7,
      "outputs": []
    },
    {
      "cell_type": "code",
      "source": [
        "# Display the cleaned data\n",
        "print(\"Cleaned Encounters Data:\")\n",
        "print(encounters_data.head())"
      ],
      "metadata": {
        "colab": {
          "base_uri": "https://localhost:8080/"
        },
        "id": "OclDzclk9iWk",
        "outputId": "c4065a81-20f4-4fce-b38e-522e15a92577"
      },
      "execution_count": 8,
      "outputs": [
        {
          "output_type": "stream",
          "name": "stdout",
          "text": [
            "Cleaned Encounters Data:\n",
            "                                     Id                     START  \\\n",
            "0  d0c40d10-8d87-447e-836e-99d26ad52ea5 2010-01-23 17:45:28+00:00   \n",
            "1  e88bc3a9-007c-405e-aabc-792a38f4aa2b 2012-01-23 17:45:28+00:00   \n",
            "2  8f104aa7-4ca9-4473-885a-bba2437df588 2001-05-01 15:02:18+00:00   \n",
            "3  b85c339a-6076-43ed-b9d0-9cf013dec49d 2011-07-28 15:02:18+00:00   \n",
            "4  dae2b7cb-1316-4b78-954f-fa610a6c6d0e 2010-07-27 12:58:08+00:00   \n",
            "\n",
            "                       STOP                               PATIENT  \\\n",
            "0 2010-01-23 18:10:28+00:00  034e9e3b-2def-4559-bb2a-7850888ae060   \n",
            "1 2012-01-23 18:00:28+00:00  034e9e3b-2def-4559-bb2a-7850888ae060   \n",
            "2 2001-05-01 15:17:18+00:00  1d604da9-9a81-4ba9-80c2-de3375d59b40   \n",
            "3 2011-07-28 15:17:18+00:00  1d604da9-9a81-4ba9-80c2-de3375d59b40   \n",
            "4 2010-07-27 13:28:08+00:00  10339b10-3cd1-4ac3-ac13-ec26728cb592   \n",
            "\n",
            "                           ORGANIZATION                              PROVIDER  \\\n",
            "0  e002090d-4e92-300e-b41e-7d1f21dee4c6  e6283e46-fd81-3611-9459-0edb1c3da357   \n",
            "1  772ee193-bb9f-30eb-9939-21e86c8e4da5  6f1d59a7-a5bd-3cf9-9671-5bad2f351c28   \n",
            "2  5d4b9df1-93ae-3bc9-b680-03249990e558  af01a385-31d3-3c77-8fdb-2867fe88df2f   \n",
            "3  3dc9bb2d-5d66-3e61-bf9a-e234c6433577  bb17e691-262b-3546-93d5-d88e7de93246   \n",
            "4  b03dba4f-892f-365c-bfd1-bfcfa7a98d5d  7ed6b84a-b847-3744-9d42-15c42297a0c2   \n",
            "\n",
            "                                  PAYER ENCOUNTERCLASS       CODE  \\\n",
            "0  6e2f1a2d-27bd-3701-8d08-dae202c58632     ambulatory  185345009   \n",
            "1  6e2f1a2d-27bd-3701-8d08-dae202c58632       wellness  162673000   \n",
            "2  b1c428d6-4f07-31e0-90f0-68ffa6ff8c76     ambulatory  185345009   \n",
            "3  b1c428d6-4f07-31e0-90f0-68ffa6ff8c76       wellness  162673000   \n",
            "4  d47b3510-2895-3b70-9897-342d681c769d       wellness  162673000   \n",
            "\n",
            "                                  DESCRIPTION  BASE_ENCOUNTER_COST  \\\n",
            "0                       Encounter for symptom               129.16   \n",
            "1  General examination of patient (procedure)               129.16   \n",
            "2                       Encounter for symptom               129.16   \n",
            "3  General examination of patient (procedure)               129.16   \n",
            "4  General examination of patient (procedure)               129.16   \n",
            "\n",
            "   TOTAL_CLAIM_COST  PAYER_COVERAGE  REASONCODE            REASONDESCRIPTION  \n",
            "0            129.16           54.16  10509002.0  Acute bronchitis (disorder)  \n",
            "1            129.16          129.16     Unknown                 Not provided  \n",
            "2            129.16            0.00  36971009.0         Sinusitis (disorder)  \n",
            "3            129.16            0.00     Unknown                 Not provided  \n",
            "4            129.16          129.16     Unknown                 Not provided  \n"
          ]
        }
      ]
    },
    {
      "cell_type": "markdown",
      "source": [
        "#### Clean  Medication Data"
      ],
      "metadata": {
        "id": "AqEtL7-s94fn"
      }
    },
    {
      "cell_type": "code",
      "source": [
        "# Display the first few rows of the original data\n",
        "print(\"Original Data:\")\n",
        "print(medication_data.head())\n",
        "\n",
        "# Rename columns to remove spaces and make them more accessible\n",
        "medication_data.columns = medication_data.columns.str.replace(' ', '_', regex=False)\n",
        "\n",
        "# Remove duplicates based on 'PATIENT' and 'START' columns (assumed as unique identifiers)\n",
        "medication_data.drop_duplicates(subset=['PATIENT', 'START'], keep='first', inplace=True)\n",
        "\n",
        "# Convert 'START' and 'STOP' columns to datetime\n",
        "medication_data['START'] = pd.to_datetime(medication_data['START'], errors='coerce')\n",
        "medication_data['STOP'] = pd.to_datetime(medication_data['STOP'], errors='coerce')\n",
        "\n",
        "# Convert numeric columns to appropriate types\n",
        "numeric_columns = ['BASE_COST', 'PAYER_COVERAGE', 'DISPENSES', 'TOTALCOST']\n",
        "for col in numeric_columns:\n",
        "    medication_data[col] = pd.to_numeric(medication_data[col], errors='coerce')\n",
        "\n",
        "# Handle missing values\n",
        "medication_data.fillna({\n",
        "    'BASE_COST': 0,\n",
        "    'PAYER_COVERAGE': 0,\n",
        "    'DISPENSES': 0,\n",
        "    'TOTALCOST': 0,\n",
        "    'REASONCODE': 'Unknown',  # Assuming 'Unknown' for unknown reasons\n",
        "    'REASONDESCRIPTION': 'Not provided'  # Default description for missing reasons\n",
        "}, inplace=True)\n",
        "\n",
        "# Display the cleaned data\n",
        "print(\"Cleaned Medication Data:\")\n",
        "print(medication_data.head())"
      ],
      "metadata": {
        "colab": {
          "base_uri": "https://localhost:8080/"
        },
        "id": "hMvOv3T690qS",
        "outputId": "8a14c9bc-7990-4f15-9f10-de169e5bee2b"
      },
      "execution_count": 9,
      "outputs": [
        {
          "output_type": "stream",
          "name": "stdout",
          "text": [
            "Original Data:\n",
            "                  START                  STOP  \\\n",
            "0  2010-05-05T00:26:23Z  2011-04-30T00:26:23Z   \n",
            "1  2011-04-30T00:26:23Z  2012-04-24T00:26:23Z   \n",
            "2  2012-04-24T00:26:23Z  2013-04-19T00:26:23Z   \n",
            "3  2011-05-13T12:58:08Z  2011-05-27T12:58:08Z   \n",
            "4  2011-12-08T15:02:18Z  2011-12-22T15:02:18Z   \n",
            "\n",
            "                                PATIENT                                 PAYER  \\\n",
            "0  8d4c4326-e9de-4f45-9a4c-f8c36bff89ae  b1c428d6-4f07-31e0-90f0-68ffa6ff8c76   \n",
            "1  8d4c4326-e9de-4f45-9a4c-f8c36bff89ae  b1c428d6-4f07-31e0-90f0-68ffa6ff8c76   \n",
            "2  8d4c4326-e9de-4f45-9a4c-f8c36bff89ae  b1c428d6-4f07-31e0-90f0-68ffa6ff8c76   \n",
            "3  10339b10-3cd1-4ac3-ac13-ec26728cb592  d47b3510-2895-3b70-9897-342d681c769d   \n",
            "4  1d604da9-9a81-4ba9-80c2-de3375d59b40  b1c428d6-4f07-31e0-90f0-68ffa6ff8c76   \n",
            "\n",
            "                              ENCOUNTER    CODE  \\\n",
            "0  1e0d6b0e-1711-4a25-99f9-b1c700c9b260  389221   \n",
            "1  6aa37300-d1b4-48e7-a2f8-5e0f70f48f38  389221   \n",
            "2  7253a9f9-6f6d-429a-926a-7b1d424eae3f  748856   \n",
            "3  e1ab4933-07a1-49f0-b4bd-05500919061d  313782   \n",
            "4  792fae81-a007-44b0-8221-46953737b089  562251   \n",
            "\n",
            "                                         DESCRIPTION  BASE_COST  \\\n",
            "0                    Etonogestrel 68 MG Drug Implant     677.08   \n",
            "1                    Etonogestrel 68 MG Drug Implant     624.09   \n",
            "2                                    Yaz 28 Day Pack      43.32   \n",
            "3                   Acetaminophen 325 MG Oral Tablet       8.14   \n",
            "4  Amoxicillin 250 MG / Clavulanate 125 MG Oral T...      11.91   \n",
            "\n",
            "   PAYER_COVERAGE  DISPENSES  TOTALCOST   REASONCODE  \\\n",
            "0             0.0         12    8124.96          NaN   \n",
            "1             0.0         12    7489.08          NaN   \n",
            "2             0.0         12     519.84          NaN   \n",
            "3             0.0          1       8.14   10509002.0   \n",
            "4             0.0          1      11.91  444814009.0   \n",
            "\n",
            "             REASONDESCRIPTION  \n",
            "0                          NaN  \n",
            "1                          NaN  \n",
            "2                          NaN  \n",
            "3  Acute bronchitis (disorder)  \n",
            "4   Viral sinusitis (disorder)  \n",
            "Cleaned Medication Data:\n",
            "                      START                      STOP  \\\n",
            "0 2010-05-05 00:26:23+00:00 2011-04-30 00:26:23+00:00   \n",
            "1 2011-04-30 00:26:23+00:00 2012-04-24 00:26:23+00:00   \n",
            "2 2012-04-24 00:26:23+00:00 2013-04-19 00:26:23+00:00   \n",
            "3 2011-05-13 12:58:08+00:00 2011-05-27 12:58:08+00:00   \n",
            "4 2011-12-08 15:02:18+00:00 2011-12-22 15:02:18+00:00   \n",
            "\n",
            "                                PATIENT                                 PAYER  \\\n",
            "0  8d4c4326-e9de-4f45-9a4c-f8c36bff89ae  b1c428d6-4f07-31e0-90f0-68ffa6ff8c76   \n",
            "1  8d4c4326-e9de-4f45-9a4c-f8c36bff89ae  b1c428d6-4f07-31e0-90f0-68ffa6ff8c76   \n",
            "2  8d4c4326-e9de-4f45-9a4c-f8c36bff89ae  b1c428d6-4f07-31e0-90f0-68ffa6ff8c76   \n",
            "3  10339b10-3cd1-4ac3-ac13-ec26728cb592  d47b3510-2895-3b70-9897-342d681c769d   \n",
            "4  1d604da9-9a81-4ba9-80c2-de3375d59b40  b1c428d6-4f07-31e0-90f0-68ffa6ff8c76   \n",
            "\n",
            "                              ENCOUNTER    CODE  \\\n",
            "0  1e0d6b0e-1711-4a25-99f9-b1c700c9b260  389221   \n",
            "1  6aa37300-d1b4-48e7-a2f8-5e0f70f48f38  389221   \n",
            "2  7253a9f9-6f6d-429a-926a-7b1d424eae3f  748856   \n",
            "3  e1ab4933-07a1-49f0-b4bd-05500919061d  313782   \n",
            "4  792fae81-a007-44b0-8221-46953737b089  562251   \n",
            "\n",
            "                                         DESCRIPTION  BASE_COST  \\\n",
            "0                    Etonogestrel 68 MG Drug Implant     677.08   \n",
            "1                    Etonogestrel 68 MG Drug Implant     624.09   \n",
            "2                                    Yaz 28 Day Pack      43.32   \n",
            "3                   Acetaminophen 325 MG Oral Tablet       8.14   \n",
            "4  Amoxicillin 250 MG / Clavulanate 125 MG Oral T...      11.91   \n",
            "\n",
            "   PAYER_COVERAGE  DISPENSES  TOTALCOST   REASONCODE  \\\n",
            "0             0.0         12    8124.96      Unknown   \n",
            "1             0.0         12    7489.08      Unknown   \n",
            "2             0.0         12     519.84      Unknown   \n",
            "3             0.0          1       8.14   10509002.0   \n",
            "4             0.0          1      11.91  444814009.0   \n",
            "\n",
            "             REASONDESCRIPTION  \n",
            "0                 Not provided  \n",
            "1                 Not provided  \n",
            "2                 Not provided  \n",
            "3  Acute bronchitis (disorder)  \n",
            "4   Viral sinusitis (disorder)  \n"
          ]
        }
      ]
    },
    {
      "cell_type": "markdown",
      "source": [
        "#### Clean Patients Data"
      ],
      "metadata": {
        "id": "9-_L7ocr-BlW"
      }
    },
    {
      "cell_type": "code",
      "source": [
        "import numpy as np\n",
        "# Display the first few rows of the original data for review\n",
        "print(\"Original Data:\")\n",
        "print(patients_data.head())\n",
        "\n",
        "# 1. Rename columns to remove leading/trailing spaces and ensure consistent naming\n",
        "patients_data.columns = [col.strip().lower() for col in patients_data.columns]\n",
        "\n",
        "# 2. Handle missing values\n",
        "# Replace empty strings with NaN\n",
        "patients_data.replace('', np.nan, inplace=True)\n",
        "\n",
        "# 3. Drop rows with critical missing values (e.g., BIRTHDATE or ID)\n",
        "patients_data.dropna(subset=['birthdate', 'id'], inplace=True)\n",
        "\n",
        "# 4. Convert date columns to datetime format\n",
        "patients_data['birthdate'] = pd.to_datetime(patients_data['birthdate'], errors='coerce')\n",
        "patients_data['deathdate'] = pd.to_datetime(patients_data['deathdate'], errors='coerce')\n",
        "\n",
        "# 5. Clean name columns to remove non-ASCII characters and trailing spaces\n",
        "patients_data['first'] = patients_data['first'].str.encode('ascii', 'ignore').str.decode('ascii').str.strip()\n",
        "patients_data['last'] = patients_data['last'].str.encode('ascii', 'ignore').str.decode('ascii').str.strip()\n",
        "patients_data['suffix'] = patients_data['suffix'].str.encode('ascii', 'ignore').str.decode('ascii').str.strip()\n",
        "\n",
        "# 6. Normalise the case for string fields (e.g., names)\n",
        "patients_data['first'] = patients_data['first'].str.title()\n",
        "patients_data['last'] = patients_data['last'].str.title()\n",
        "\n",
        "# 7. Ensure consistent formatting for address components\n",
        "patients_data['address'] = patients_data['address'].str.strip()\n",
        "patients_data['city'] = patients_data['city'].str.title()\n",
        "patients_data['state'] = patients_data['state'].str.upper()  # Standardise to uppercase\n",
        "patients_data['zip'] = patients_data['zip'].astype(str).str.zfill(5)  # Ensure ZIP codes are 5 digits\n",
        "\n",
        "# 8. Check and remove duplicates based on ID\n",
        "patients_data.drop_duplicates(subset=['id'], inplace=True)\n",
        "\n",
        "# 9. Reset index after cleaning\n",
        "patients_data.reset_index(drop=True, inplace=True)\n",
        "\n",
        "# 10. Display the cleaned data\n",
        "print(\"Cleaned Medication Data:\")\n",
        "print(patients_data.head())"
      ],
      "metadata": {
        "colab": {
          "base_uri": "https://localhost:8080/"
        },
        "id": "gfgLXg9y-Ghb",
        "outputId": "345ff3ba-57ee-42c6-ab3a-d780c66782d1"
      },
      "execution_count": 10,
      "outputs": [
        {
          "output_type": "stream",
          "name": "stdout",
          "text": [
            "Original Data:\n",
            "                                     Id   BIRTHDATE DEATHDATE          SSN  \\\n",
            "0  1d604da9-9a81-4ba9-80c2-de3375d59b40  1989-05-25       NaN  999-76-6866   \n",
            "1  034e9e3b-2def-4559-bb2a-7850888ae060  1983-11-14       NaN  999-73-5361   \n",
            "2  10339b10-3cd1-4ac3-ac13-ec26728cb592  1992-06-02       NaN  999-27-3385   \n",
            "3  8d4c4326-e9de-4f45-9a4c-f8c36bff89ae  1978-05-27       NaN  999-85-4926   \n",
            "4  f5dcd418-09fe-4a2f-baa0-3da800bd8c3a  1996-10-18       NaN  999-60-7372   \n",
            "\n",
            "     DRIVERS    PASSPORT PREFIX            FIRST           LAST SUFFIX  ...  \\\n",
            "0  S99984236  X19277260X    Mr.  José Eduardo181       Gómez206    NaN  ...   \n",
            "1  S99962402  X88275464X    Mr.          Milo271        Feil794    NaN  ...   \n",
            "2  S99972682  X73754411X    Mr.        Jayson808       Fadel536    NaN  ...   \n",
            "3  S99974448  X40915583X   Mrs.       Mariana775  Rutherford999    NaN  ...   \n",
            "4  S99915787  X86772962X    Mr.      Gregorio366         Auer97    NaN  ...   \n",
            "\n",
            "                         BIRTHPLACE                         ADDRESS  \\\n",
            "0  Marigot  Saint Andrew Parish  DM      427 Balistreri Way Unit 19   \n",
            "1        Danvers  Massachusetts  US        422 Farrell Path Unit 69   \n",
            "2    Springfield  Massachusetts  US       1056 Harris Lane Suite 70   \n",
            "3       Yarmouth  Massachusetts  US                  999 Kuhn Forge   \n",
            "4                Patras  Achaea  GR  1050 Lindgren Extension Apt 38   \n",
            "\n",
            "         CITY          STATE            COUNTY     ZIP        LAT        LON  \\\n",
            "0    Chicopee  Massachusetts    Hampden County  1013.0  42.228354 -72.562951   \n",
            "1  Somerville  Massachusetts  Middlesex County  2143.0  42.360697 -71.126531   \n",
            "2    Chicopee  Massachusetts    Hampden County  1020.0  42.181642 -72.608842   \n",
            "3      Lowell  Massachusetts  Middlesex County  1851.0  42.636143 -71.343255   \n",
            "4      Boston  Massachusetts    Suffolk County  2135.0  42.352434 -71.028610   \n",
            "\n",
            "  HEALTHCARE_EXPENSES HEALTHCARE_COVERAGE  \n",
            "0           271227.08             1334.88  \n",
            "1           793946.01             3204.49  \n",
            "2           574111.90             2606.40  \n",
            "3           935630.30             8756.19  \n",
            "4           598763.07             3772.20  \n",
            "\n",
            "[5 rows x 25 columns]\n",
            "Cleaned Medication Data:\n",
            "                                     id  birthdate deathdate          ssn  \\\n",
            "0  1d604da9-9a81-4ba9-80c2-de3375d59b40 1989-05-25       NaT  999-76-6866   \n",
            "1  034e9e3b-2def-4559-bb2a-7850888ae060 1983-11-14       NaT  999-73-5361   \n",
            "2  10339b10-3cd1-4ac3-ac13-ec26728cb592 1992-06-02       NaT  999-27-3385   \n",
            "3  8d4c4326-e9de-4f45-9a4c-f8c36bff89ae 1978-05-27       NaT  999-85-4926   \n",
            "4  f5dcd418-09fe-4a2f-baa0-3da800bd8c3a 1996-10-18       NaT  999-60-7372   \n",
            "\n",
            "     drivers    passport prefix           first           last suffix  ...  \\\n",
            "0  S99984236  X19277260X    Mr.  Jos Eduardo181        Gmez206    NaN  ...   \n",
            "1  S99962402  X88275464X    Mr.         Milo271        Feil794    NaN  ...   \n",
            "2  S99972682  X73754411X    Mr.       Jayson808       Fadel536    NaN  ...   \n",
            "3  S99974448  X40915583X   Mrs.      Mariana775  Rutherford999    NaN  ...   \n",
            "4  S99915787  X86772962X    Mr.     Gregorio366         Auer97    NaN  ...   \n",
            "\n",
            "                         birthplace                         address  \\\n",
            "0  Marigot  Saint Andrew Parish  DM      427 Balistreri Way Unit 19   \n",
            "1        Danvers  Massachusetts  US        422 Farrell Path Unit 69   \n",
            "2    Springfield  Massachusetts  US       1056 Harris Lane Suite 70   \n",
            "3       Yarmouth  Massachusetts  US                  999 Kuhn Forge   \n",
            "4                Patras  Achaea  GR  1050 Lindgren Extension Apt 38   \n",
            "\n",
            "         city          state            county     zip        lat        lon  \\\n",
            "0    Chicopee  MASSACHUSETTS    Hampden County  1013.0  42.228354 -72.562951   \n",
            "1  Somerville  MASSACHUSETTS  Middlesex County  2143.0  42.360697 -71.126531   \n",
            "2    Chicopee  MASSACHUSETTS    Hampden County  1020.0  42.181642 -72.608842   \n",
            "3      Lowell  MASSACHUSETTS  Middlesex County  1851.0  42.636143 -71.343255   \n",
            "4      Boston  MASSACHUSETTS    Suffolk County  2135.0  42.352434 -71.028610   \n",
            "\n",
            "  healthcare_expenses healthcare_coverage  \n",
            "0           271227.08             1334.88  \n",
            "1           793946.01             3204.49  \n",
            "2           574111.90             2606.40  \n",
            "3           935630.30             8756.19  \n",
            "4           598763.07             3772.20  \n",
            "\n",
            "[5 rows x 25 columns]\n"
          ]
        }
      ]
    },
    {
      "cell_type": "code",
      "source": [
        "# 2. Drop rows with NaN in critical columns\n",
        "patients_data.dropna(subset=['birthdate', 'id'], inplace=True)\n",
        "\n",
        "# 3. Fill NaN values without using inplace=True to avoid warnings\n",
        "# Keep deathdate as NaT for datetime\n",
        "patients_data['deathdate'] = patients_data['deathdate'].fillna(pd.NaT)\n",
        "\n",
        "# Fill healthcare_expenses with median\n",
        "patients_data['healthcare_expenses'] = patients_data['healthcare_expenses'].fillna(patients_data['healthcare_expenses'].median())\n",
        "\n",
        "# Fill healthcare_coverage with mean\n",
        "patients_data['healthcare_coverage'] = patients_data['healthcare_coverage'].fillna(patients_data['healthcare_coverage'].mean())\n",
        "\n",
        "# Fill categorical fields with a placeholder value\n",
        "patients_data['city'] = patients_data['city'].fillna('Unknown')\n",
        "patients_data['state'] = patients_data['state'].fillna('Unknown')\n",
        "\n",
        "# For the other columns with NaN values, you can also decide on a strategy, for example:\n",
        "patients_data['drivers'] = patients_data['drivers'].fillna('Unknown Driver')\n",
        "patients_data['passport'] = patients_data['passport'].fillna('Unknown Passport')\n",
        "patients_data['prefix'] = patients_data['prefix'].fillna('Mr./Mrs.')\n",
        "patients_data['suffix'] = patients_data['suffix'].fillna('')\n",
        "patients_data['maiden'] = patients_data['maiden'].fillna('Unknown Maiden')\n",
        "patients_data['marital'] = patients_data['marital'].fillna('Unknown Marital Status')\n",
        "\n",
        "# 4. Check for missing values after handling\n",
        "print(\"Missing Values After Handling:\")\n",
        "print(patients_data.isnull().sum())"
      ],
      "metadata": {
        "id": "BYHW1sC6AK5S",
        "outputId": "1e062758-4543-4efe-ba01-84b45330aeed",
        "colab": {
          "base_uri": "https://localhost:8080/"
        }
      },
      "execution_count": 11,
      "outputs": [
        {
          "output_type": "stream",
          "name": "stdout",
          "text": [
            "Missing Values After Handling:\n",
            "id                        0\n",
            "birthdate                 0\n",
            "deathdate              1000\n",
            "ssn                       0\n",
            "drivers                   0\n",
            "passport                  0\n",
            "prefix                    0\n",
            "first                     0\n",
            "last                      0\n",
            "suffix                    0\n",
            "maiden                    0\n",
            "marital                   0\n",
            "race                      0\n",
            "ethnicity                 0\n",
            "gender                    0\n",
            "birthplace                0\n",
            "address                   0\n",
            "city                      0\n",
            "state                     0\n",
            "county                    0\n",
            "zip                       0\n",
            "lat                       0\n",
            "lon                       0\n",
            "healthcare_expenses       0\n",
            "healthcare_coverage       0\n",
            "dtype: int64\n"
          ]
        }
      ]
    },
    {
      "cell_type": "code",
      "source": [],
      "metadata": {
        "id": "MoRgJDGr_tb-"
      },
      "execution_count": null,
      "outputs": []
    },
    {
      "cell_type": "markdown",
      "source": [
        "### 4. Set Up ProgreSQL\n",
        "###### set up a connection to PostgresSQL database"
      ],
      "metadata": {
        "id": "isVeOnQY5D3S"
      }
    },
    {
      "cell_type": "code",
      "source": [
        "engine = create_engine('postgresql:username:LondonSB14\"@localhost:5432/mydatabase')\n",
        "\n",
        "#load Dataframes into PostgreSQL\n",
        "conditions_data.to_sql('conditions', engine, if_exist='replace', index=False)\n",
        "encounters_data.to_sql('encounters', engine, if_exist='replace', index=False)\n",
        "medication_data.to_sql('medication', engine, if_exist='replace', index=False)\n",
        "patients_data.to_sql('patients', engine, if_exist='replace', index=False)"
      ],
      "metadata": {
        "id": "eGkjouUj4uwU"
      },
      "execution_count": null,
      "outputs": []
    },
    {
      "cell_type": "markdown",
      "source": [
        "### 5. Set Up MongoDB\n",
        "###### set up a connection to Mongo instance"
      ],
      "metadata": {
        "id": "jEhdrpeZ4wBX"
      }
    },
    {
      "cell_type": "code",
      "source": [
        "client = MongoClient('mongodb://localhost:27017')\n",
        "db = client ['mydatabase']"
      ],
      "metadata": {
        "id": "u9psoYVM5PPL"
      },
      "execution_count": null,
      "outputs": []
    },
    {
      "cell_type": "code",
      "source": [
        "### Load Data into MongoDB\n",
        "\n",
        "observations_collection = db ['observations']\n",
        "observation_collection.insert_many(observation_data.to_dict('records'))"
      ],
      "metadata": {
        "id": "PHSO1jzJ5Tv2"
      },
      "execution_count": null,
      "outputs": []
    },
    {
      "cell_type": "markdown",
      "source": [
        "### 5. Create Data Mart\n",
        "###### Create summarised tables for data marts."
      ],
      "metadata": {
        "id": "4uH3S5K85oXl"
      }
    },
    {
      "cell_type": "code",
      "source": [
        "# Data Mart Creation\n",
        "\n",
        "patients_"
      ],
      "metadata": {
        "id": "JzcFhR955jL3"
      },
      "execution_count": null,
      "outputs": []
    },
    {
      "cell_type": "code",
      "source": [],
      "metadata": {
        "id": "1nwRG-Ox5nlX"
      },
      "execution_count": null,
      "outputs": []
    }
  ],
  "metadata": {
    "kernelspec": {
      "display_name": "Python 3 (ipykernel)",
      "language": "python",
      "name": "python3"
    },
    "language_info": {
      "codemirror_mode": {
        "name": "ipython",
        "version": 3
      },
      "file_extension": ".py",
      "mimetype": "text/x-python",
      "name": "python",
      "nbconvert_exporter": "python",
      "pygments_lexer": "ipython3",
      "version": "3.12.4"
    },
    "colab": {
      "provenance": [],
      "include_colab_link": true
    }
  },
  "nbformat": 4,
  "nbformat_minor": 0
}