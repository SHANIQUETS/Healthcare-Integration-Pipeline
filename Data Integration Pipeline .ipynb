{
  "metadata": {
    "kernelspec": {
      "name": ""
    },
    "language_info": {
      "name": ""
    }
  },
  "nbformat_minor": 4,
  "nbformat": 4,
  "cells": [
    {
      "cell_type": "markdown",
      "source": "# Healthcare Data Integration Pipeline\n\n",
      "metadata": {}
    },
    {
      "cell_type": "code",
      "source": "# Import the required libraries\n\nimport pandas as pd \nfrom sqlalchemy import create_engine\nfrom pymongo import MongoClient\nimport json",
      "metadata": {
        "trusted": true
      },
      "outputs": [],
      "execution_count": null
    },
    {
      "cell_type": "markdown",
      "source": "## 2. Data Processing\n##### Load the necessary files into DataFrames",
      "metadata": {}
    },
    {
      "cell_type": "code",
      "source": "# Load data\n\nurl=(\"https://raw.githubusercontent.com/SHANIQUETS/Healthcare-Integration-Pipeline/refs/heads/main/conditions.csv?token=GHSAT0AAAAAACZTD6OXEDX45LSZNTSSGTQMZY63KHA\")\nconditions_data = pd.read_csv(url)\n\nurl=(\"https://raw.githubusercontent.com/SHANIQUETS/Healthcare-Integration-Pipeline/refs/heads/main/encounters.csv?token=GHSAT0AAAAAACZTD6OXLCRGR2O4JV6DUCQSZY63KWA\")\nencounters_data = pd.read_csv(url)\n\nurl=(\"https://raw.githubusercontent.com/SHANIQUETS/Healthcare-Integration-Pipeline/refs/heads/main/medications.csv?token=GHSAT0AAAAAACZTD6OXFSNQEOMZLSIETYO4ZY63LKQ\")\nmedication_data = pd.read_csv(url)\n\nurl=(\"https://raw.githubusercontent.com/SHANIQUETS/Healthcare-Integration-Pipeline/refs/heads/main/patients.csv?token=GHSAT0AAAAAACZTD6OWGFYZQHGURC75MIFOZY63L2A\")\npatients_data = pd.read_csv(url)",
      "metadata": {
        "trusted": true
      },
      "outputs": [],
      "execution_count": null
    },
    {
      "cell_type": "markdown",
      "source": "### 3. Clean and Transform Data",
      "metadata": {}
    },
    {
      "cell_type": "code",
      "source": "",
      "metadata": {
        "trusted": true
      },
      "outputs": [],
      "execution_count": null
    }
  ]
}